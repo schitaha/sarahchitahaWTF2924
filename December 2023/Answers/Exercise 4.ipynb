{
 "cells": [
  {
   "cell_type": "markdown",
   "id": "99f39638-c29f-45db-b8b5-1d3f3a8522bc",
   "metadata": {},
   "source": [
    "\n",
    "# Software Development - Session 1B\n",
    "## Python programming exercises\n"
   ]
  },
  {
   "cell_type": "markdown",
   "id": "a47ba77b-310b-49b8-ab8e-50ab0922e571",
   "metadata": {},
   "source": [
    "\n",
    "## Question 1\n",
    "Write a program to produce the following output using for loop\n",
    "```\n",
    "+----+\n",
    "\\   /\n",
    "/   \\\n",
    "\\   /\n",
    "/   \\\n",
    "\\   /\n",
    "/   \\\n",
    "+----+\n",
    "```\n"
   ]
  },
  {
   "cell_type": "code",
   "execution_count": 5,
   "id": "be665f4e-d17b-4ef1-9448-afc7192bc1b3",
   "metadata": {},
   "outputs": [
    {
     "name": "stdout",
     "output_type": "stream",
     "text": [
      "+----+\n",
      "\\    /\n",
      "/    \\\n",
      "\\    /\n",
      "/    \\\n",
      "\\    /\n",
      "/    \\\n",
      "+----+\n"
     ]
    }
   ],
   "source": [
    "for i in range(5):\n",
    "    if i == 0 or i == 4:\n",
    "        print(\"+----+\")\n",
    "    else:\n",
    "        print(\"\\\\    /\")\n",
    "        print(\"/    \\\\\")\n"
   ]
  },
  {
   "cell_type": "markdown",
   "id": "e75b7b14-9554-42be-b16f-4ccd47149f18",
   "metadata": {},
   "source": [
    "\n",
    "## Question 2\n",
    "Write a program to produce the following output using for loop\n",
    "```\n",
    "  **********\n",
    "  **********\n",
    "  **********\n",
    "  **********\n",
    "  **********\n",
    "```\n"
   ]
  },
  {
   "cell_type": "code",
   "execution_count": 6,
   "id": "37406bb0-b6d4-4e32-806d-4cb96256316c",
   "metadata": {},
   "outputs": [
    {
     "name": "stdout",
     "output_type": "stream",
     "text": [
      "**********\n",
      "**********\n",
      "**********\n",
      "**********\n",
      "**********\n"
     ]
    }
   ],
   "source": [
    "for i in range(5):\n",
    "    for j in range(10):\n",
    "        print('*', end='')\n",
    "    print()\n"
   ]
  },
  {
   "cell_type": "markdown",
   "id": "47a49606-b558-4821-a260-cbd58b7470f3",
   "metadata": {},
   "source": [
    "\n",
    "## Question 3\n",
    "Complete the code for the following for loop:\n",
    "```\n",
    "for in range(1,7):\n",
    "    //your code here\n",
    "```\n",
    "so that it prints the following numbers, one per line:\n",
    "\n",
    "| a) | 1  | b) | 2  | c) | 4  | d) | 30 | e) | -7 | f) | 97 | g) | -4 |\n",
    "|----|----|----|----|----|----|----|----|----|----|----|----|----|----|\n",
    "|    | 2  |    | 4  |    | 19 |    | 20 |    | -3 |    | 94 |    | 14 |\n",
    "|    | 3  |    | 6  |    | 34 |    | 10 |    | 1  |    | 91 |    | 32 |\n",
    "|    | 4  |    | 8  |    | 49 |    | 0  |    | 5  |    | 88 |    | 50 |\n",
    "|    | 5  |    | 10 |    | 64 |    | -10|    | 9  |    | 85 |    | 68 |\n",
    "|    | 6  |    | 12 |    | 79 |    | -20|    | 13 |    | 82 |    | 86 |\n"
   ]
  },
  {
   "cell_type": "code",
   "execution_count": 7,
   "id": "579f0ef9-2dd7-4996-9f98-753c46079243",
   "metadata": {},
   "outputs": [
    {
     "name": "stdout",
     "output_type": "stream",
     "text": [
      "a\tb\tc\td\te\tf\tg\n",
      "1\t2\t4\t30\t-7\t97\t-4\n",
      "2\t4\t19\t20\t-3\t94\t14\n",
      "3\t6\t34\t10\t1\t91\t32\n",
      "4\t8\t49\t0\t5\t88\t50\n",
      "5\t10\t64\t-10\t9\t85\t68\n",
      "6\t12\t79\t-20\t13\t82\t86\n"
     ]
    }
   ],
   "source": [
    "letters = \"abcdefg\"\n",
    "print(*letters, sep=\"\\t\")\n",
    "\n",
    "for i in range(1, 7):\n",
    "    values = (i, i*2, 4 + (i - 1) * 15, 30 - (i - 1) * 10, 4 * i - 11, 97 - 3 * (i - 1), -4 + (i-1) * 18)\n",
    "    print(*values, sep=\"\\t\")\n"
   ]
  },
  {
   "cell_type": "markdown",
   "id": "c405b89c-9f36-4f1e-9cbc-80b62aad8a82",
   "metadata": {},
   "source": [
    "\n",
    "## Question 4\n",
    "Write a program to produce the following output using for loops. Then use a class constant to make it possible to change the number of lines in the figure.\n",
    "```\n",
    "  1\n",
    "  22\n",
    "  333\n",
    "  4444\n",
    "  55555\n",
    "  666666\n",
    "  7777777\n",
    "```"
   ]
  },
  {
   "cell_type": "code",
   "execution_count": 8,
   "id": "9c923152-ba1a-4ede-b5cf-5ece97c0e3de",
   "metadata": {},
   "outputs": [
    {
     "name": "stdout",
     "output_type": "stream",
     "text": [
      "1\n",
      "22\n",
      "333\n",
      "4444\n",
      "55555\n",
      "666666\n",
      "7777777\n"
     ]
    }
   ],
   "source": [
    "class NumberTriangle:\n",
    "    NUM_LINES = 7  # Class constant to control the number of lines in the figure\n",
    "\n",
    "    def print_triangle(self):\n",
    "        for i in range(1, self.NUM_LINES + 1):\n",
    "            for j in range(i):\n",
    "                print(i, end=\"\")\n",
    "            print()\n",
    "\n",
    "# Create an instance of the NumberTriangle class\n",
    "triangle = NumberTriangle()\n",
    "\n",
    "# Print the triangle\n",
    "triangle.print_triangle()\n"
   ]
  },
  {
   "cell_type": "markdown",
   "id": "783f07d7-861c-4596-a738-d1ae33e40625",
   "metadata": {},
   "source": [
    "\n",
    "## Question 5\n",
    "Write a method named pay that accepts two parameters: a real number for a TA's salary, and an integer for the number of hours the TA worked this week. The method should return how much money to pay the TA. For example, the call\n",
    "```\n",
    "pay(5.50, 6)\n",
    "```\n",
    "should return\n",
    "```\n",
    "33.0.\n",
    "```\n",
    "The TA should receive \"overtime\" pay of 1 1⁄2 normal salary for any hours above 8. For example, the call pay(4.00, 11) should return (4.00 * 8) + (6.00 * 3) or 50.0.\n",
    "\n"
   ]
  },
  {
   "cell_type": "code",
   "execution_count": 9,
   "id": "1cde0784-98be-4573-b685-5cd0dce192d2",
   "metadata": {},
   "outputs": [
    {
     "name": "stdout",
     "output_type": "stream",
     "text": [
      "Payment for 6 hours at $5.5/hour: $33.00\n",
      "Payment for 11 hours at $4.0/hour: $50.00\n"
     ]
    }
   ],
   "source": [
    "def pay(salary, hours_worked):\n",
    "    normal_hours = 8\n",
    "    overtime_rate = 1.5\n",
    "\n",
    "    if hours_worked <= normal_hours:\n",
    "        total_payment = salary * hours_worked\n",
    "    else:\n",
    "        normal_payment = salary * normal_hours\n",
    "        overtime_payment = salary * overtime_rate * (hours_worked - normal_hours)\n",
    "        total_payment = normal_payment + overtime_payment\n",
    "\n",
    "    return total_payment\n",
    "\n",
    "salary1 = 5.50\n",
    "hours1 = 6\n",
    "result1 = pay(salary1, hours1)\n",
    "print(f\"Payment for {hours1} hours at ${salary1}/hour: ${result1:.2f}\")\n",
    "\n",
    "salary2 = 4.00\n",
    "hours2 = 11\n",
    "result2 = pay(salary2, hours2)\n",
    "print(f\"Payment for {hours2} hours at ${salary2}/hour: ${result2:.2f}\")\n"
   ]
  },
  {
   "cell_type": "markdown",
   "id": "2eedb52e-d71b-471e-8a2e-609c3268e465",
   "metadata": {},
   "source": [
    "\n",
    "## Question 6\n",
    "Consider the following method for converting milliseconds into days:\n",
    "```\n",
    "// converts milliseconds to days\n",
    "def toDays(millis):\n",
    "    return millis / 1000.0 / 60.0 / 60.0 / 24.0\n",
    "```\n",
    "Write a similar method named area that takes as a parameter the radius of a circle and that returns the area of the circle. For example, the call\n",
    "```area(2.0);```\n",
    "should return ```12.566370614359172.```\n",
    "Recall that area can be computed as π times the radius squared and that Python has a constant called ```math.pi```\n"
   ]
  },
  {
   "cell_type": "code",
   "execution_count": 10,
   "id": "91dc7619-c598-4093-8d47-f5453b025b52",
   "metadata": {},
   "outputs": [
    {
     "name": "stdout",
     "output_type": "stream",
     "text": [
      "The area of a circle with radius 2.0 is: 12.566370614359172\n"
     ]
    }
   ],
   "source": [
    "import math\n",
    "\n",
    "# calculates the area of a circle\n",
    "def area(radius):\n",
    "    return math.pi * radius**2\n",
    "\n",
    "radius = 2.0\n",
    "result = area(radius)\n",
    "print(f\"The area of a circle with radius {radius} is: {result}\")\n"
   ]
  },
  {
   "cell_type": "markdown",
   "id": "f0bf8a28-f5c7-4b60-a7a5-eca6e9ec075a",
   "metadata": {},
   "source": [
    "\n",
    "## Question 7\n",
    "**Copy and paste** the following code into pythons IDLE script environment.\n",
    "```\n",
    "low = 1\n",
    "high = 1001\n",
    "sum = 0\n",
    "for i in range(low,high):\n",
    "    sum += i\n",
    "print(\"sum = \" , sum)\n",
    "```\n",
    "**Modify** the code to use a input to prompt the user for the values of low and high. Below is a sample execution in which the user asks for the same values as in the original program (1 through 1000):\n",
    "```\n",
    "low? 1\n",
    "high? 1001\n",
    "sum = 500500\n",
    "```\n",
    "Below is an execution with different values for low and high:\n",
    "```\n",
    "low? 300\n",
    "high? 5298\n",
    "sum = 13986903\n",
    "```\n",
    "You should exactly reproduce this format.\n"
   ]
  },
  {
   "cell_type": "code",
   "execution_count": 14,
   "id": "9990e4fd-4f8d-4861-b5ac-c071168fbd92",
   "metadata": {},
   "outputs": [
    {
     "name": "stdin",
     "output_type": "stream",
     "text": [
      "low?  300\n",
      "high?  5298\n"
     ]
    },
    {
     "name": "stdout",
     "output_type": "stream",
     "text": [
      "sum = 13986903\n"
     ]
    }
   ],
   "source": [
    "low = int(input(\"low? \"))\n",
    "high = int(input(\"high? \"))\n",
    "sum_result = 0\n",
    "\n",
    "for i in range(low, high):\n",
    "    sum_result += i\n",
    "\n",
    "print(\"sum =\", sum_result)"
   ]
  },
  {
   "cell_type": "markdown",
   "id": "b7fc5dec-3f8b-4014-8cf9-0c9dc117c5c1",
   "metadata": {},
   "source": [
    "\n",
    "## Question 8\n",
    "Write a program using while loop that prompts the user for numbers until the user types 0, then outputs their sum.\n"
   ]
  },
  {
   "cell_type": "code",
   "execution_count": 15,
   "id": "1a453988-24cf-4935-9254-7400f05a0e37",
   "metadata": {},
   "outputs": [
    {
     "name": "stdin",
     "output_type": "stream",
     "text": [
      "Enter a number (or 0 to stop):  3\n",
      "Enter a number (or 0 to stop):  6\n",
      "Enter a number (or 0 to stop):  23\n",
      "Enter a number (or 0 to stop):  657\n",
      "Enter a number (or 0 to stop):  0\n"
     ]
    },
    {
     "name": "stdout",
     "output_type": "stream",
     "text": [
      "The sum of the numbers is: 689.0\n"
     ]
    }
   ],
   "source": [
    "# Initialize sum\n",
    "total_sum = 0\n",
    "\n",
    "# Prompt user for numbers until 0 is entered\n",
    "while True:\n",
    "    # Get input from user\n",
    "    num = float(input(\"Enter a number (or 0 to stop): \"))\n",
    "    \n",
    "    # Check if the entered number is 0\n",
    "    if num == 0:\n",
    "        break  # Exit the loop if 0 is entered\n",
    "    \n",
    "    # Add the number to the sum\n",
    "    total_sum += num\n",
    "\n",
    "# Print the sum\n",
    "print(\"The sum of the numbers is:\", total_sum)\n"
   ]
  },
  {
   "cell_type": "markdown",
   "id": "f8c633e3-0f92-4043-97cc-9bc2dc749729",
   "metadata": {},
   "source": [
    "## Question 9\n",
    "Write a program using while loop that prompts the user for numbers until the user types -1, then outputs their sum.\n"
   ]
  },
  {
   "cell_type": "code",
   "execution_count": 16,
   "id": "dd098e58-878c-4d55-ab29-985fce1c61be",
   "metadata": {},
   "outputs": [
    {
     "name": "stdin",
     "output_type": "stream",
     "text": [
      "Enter a number (or -1 to stop):  56\n",
      "Enter a number (or -1 to stop):  32\n",
      "Enter a number (or -1 to stop):  98\n",
      "Enter a number (or -1 to stop):  3\n",
      "Enter a number (or -1 to stop):  96543\n",
      "Enter a number (or -1 to stop):  -1\n"
     ]
    },
    {
     "name": "stdout",
     "output_type": "stream",
     "text": [
      "The sum of the numbers is: 96732.0\n"
     ]
    }
   ],
   "source": [
    "# Initialize sum\n",
    "total_sum = 0\n",
    "\n",
    "# Prompt user for numbers until -1 is entered\n",
    "while True:\n",
    "    # Get input from user\n",
    "    num = float(input(\"Enter a number (or -1 to stop): \"))\n",
    "    \n",
    "    # Check if the entered number is -1\n",
    "    if num == -1:\n",
    "        break  # Exit the loop if -1 is entered\n",
    "    \n",
    "    # Add the number to the sum\n",
    "    total_sum += num\n",
    "\n",
    "# Print the sum\n",
    "print(\"The sum of the numbers is:\", total_sum)\n"
   ]
  },
  {
   "cell_type": "markdown",
   "id": "53bd7c8f-2172-40f5-b5ff-298fffb13369",
   "metadata": {},
   "source": [
    "\n",
    "## Question 10\n",
    "Write a method named `repl` that accepts a `String` and a number of repetitions as parameters and returns the `String` concatenated that many times. For example, the call `repl(\"hello\", 3)` returns `\"hellohellohello\"`. If the number of repetitions is 0 or less, an empty string is returned.\n"
   ]
  },
  {
   "cell_type": "code",
   "execution_count": 17,
   "id": "377a20e1-3fd0-430a-8ce5-0176e8e1faf1",
   "metadata": {},
   "outputs": [
    {
     "name": "stdout",
     "output_type": "stream",
     "text": [
      "hellohellohello\n",
      "\n"
     ]
    }
   ],
   "source": [
    "def repl(s, repetitions):\n",
    "    if repetitions <= 0:\n",
    "        return \"\"\n",
    "    else:\n",
    "        return s * repetitions\n",
    "\n",
    "result1 = repl(\"hello\", 3)\n",
    "print(result1)  # Output: hellohellohello\n",
    "\n",
    "result2 = repl(\"hello\", 0)\n",
    "print(result2)  # Output: (empty string)\n"
   ]
  },
  {
   "cell_type": "markdown",
   "id": "bfcb2f85-1f6b-48e7-ae46-832138550d25",
   "metadata": {},
   "source": [
    "\n",
    "## Question 11\n",
    "Write a method called `printRange` that accepts two integers as arguments and prints the sequence of numbers between the two arguments, separated by spaces. Print an increasing sequence if the first argument is smaller than the second; otherwise, print a decreasing sequence. If the two numbers are the same, that number should be printed by itself. Here are some sample calls to `printRange`:\n",
    "```\n",
    "printRange(2, 7)\n",
    "printRange(19, 11) \n",
    "printRange(5, 5)\n",
    "```\n",
    "The output produced should be the following: \n",
    "```\n",
    "2 3 4 5 6 7\n",
    "19 18 17 16 15 14 13 12 11\n",
    "5\n",
    "```"
   ]
  },
  {
   "cell_type": "code",
   "execution_count": 18,
   "id": "463ab366-2f5e-4cf5-a2e7-fc36c6481797",
   "metadata": {},
   "outputs": [
    {
     "name": "stdout",
     "output_type": "stream",
     "text": [
      "2 3 4 5 6 7 \n",
      "19 18 17 16 15 14 13 12 11 \n",
      "5\n"
     ]
    }
   ],
   "source": [
    "def printRange(start, end):\n",
    "    if start == end:\n",
    "        print(start)\n",
    "    elif start < end:\n",
    "        for i in range(start, end + 1):\n",
    "            print(i, end=\" \")\n",
    "        print()  # Print a new line after the sequence\n",
    "    else:\n",
    "        for i in range(start, end - 1, -1):\n",
    "            print(i, end=\" \")\n",
    "        print()  # Print a new line after the sequence\n",
    "\n",
    "printRange(2, 7)\n",
    "printRange(19, 11)\n",
    "printRange(5, 5)\n"
   ]
  },
  {
   "cell_type": "markdown",
   "id": "25131f04-d1df-4e0b-ab5c-8ac34d36478d",
   "metadata": {},
   "source": [
    "\n",
    "## Question 12\n",
    "Write a method named `smallestLargest` that asks the user to enter numbers, then prints the smallest and largest of all the numbers typed in by the user. You may assume the user enters a valid number greater than 0 for the number of numbers to read. Here is an example dialogue:\n",
    "```\n",
    "How many numbers do you want to enter? 4\n",
    "Number 1: 5\n",
    "Number 2: 11\n",
    "Number 3: -2\n",
    "Number 4: 3\n",
    "Smallest = -2\n",
    "Largest = 11\n",
    "```"
   ]
  },
  {
   "cell_type": "code",
   "execution_count": 19,
   "id": "144849c8-3e11-4a2b-ae1a-78638cac281d",
   "metadata": {},
   "outputs": [
    {
     "name": "stdin",
     "output_type": "stream",
     "text": [
      "How many numbers do you want to enter?  5\n",
      "Number 1:  11\n",
      "Number 2:  -2\n",
      "Number 3:  3\n",
      "Number 4:  5\n",
      "Number 5:  8\n"
     ]
    },
    {
     "name": "stdout",
     "output_type": "stream",
     "text": [
      "Smallest = -2.0\n",
      "Largest = 11.0\n"
     ]
    }
   ],
   "source": [
    "def smallestLargest():\n",
    "    # Ask the user for the number of numbers to enter\n",
    "    num_numbers = int(input(\"How many numbers do you want to enter? \"))\n",
    "    \n",
    "    # Initialize variables to keep track of the smallest and largest numbers\n",
    "    smallest = None\n",
    "    largest = None\n",
    "    \n",
    "    # Loop through each number and update smallest and largest\n",
    "    for i in range(1, num_numbers + 1):\n",
    "        num = float(input(f\"Number {i}: \"))\n",
    "        \n",
    "        # Update smallest and largest based on the entered number\n",
    "        if smallest is None or num < smallest:\n",
    "            smallest = num\n",
    "        if largest is None or num > largest:\n",
    "            largest = num\n",
    "    \n",
    "    # Print the smallest and largest numbers\n",
    "    print(f\"Smallest = {smallest}\")\n",
    "    print(f\"Largest = {largest}\")\n",
    "\n",
    "# Call the function\n",
    "smallestLargest()\n"
   ]
  },
  {
   "cell_type": "markdown",
   "id": "b8201f6d-8945-41af-b2b1-13dc61875cc0",
   "metadata": {},
   "source": [
    "\n",
    "## Question 13\n",
    "Write a method called `printAverage` that uses a sentinel loop to repeatedly prompt the user for numbers. Once the user types any number less than zero, the method should display the average of all nonnegative numbers typed. Display the average as a `double`. Here is a sample dialogue with the user:\n",
    "```\n",
    "Type a number: 7\n",
    "Type a number: 4\n",
    "Type a number: 16\n",
    "Type a number: –4\n",
    "Average was 9.0\n",
    "```\n",
    "If the first number that the user types is negative, do not print an average:\n",
    "```\n",
    "Type a number: –2\n",
    "```"
   ]
  },
  {
   "cell_type": "code",
   "execution_count": 20,
   "id": "f2c8c4f5-79cf-46cd-8490-d66b02d88c93",
   "metadata": {},
   "outputs": [
    {
     "name": "stdin",
     "output_type": "stream",
     "text": [
      "Type a number:  7\n",
      "Type a number:  4\n",
      "Type a number:  16\n",
      "Type a number:  -4\n"
     ]
    },
    {
     "name": "stdout",
     "output_type": "stream",
     "text": [
      "Average was 9.0\n"
     ]
    }
   ],
   "source": [
    "def printAverage():\n",
    "    count = 0  # To keep track of the number of nonnegative numbers\n",
    "    total = 0  # To accumulate the sum of all nonnegative numbers\n",
    "    \n",
    "    while True:\n",
    "        num = float(input(\"Type a number: \"))\n",
    "        \n",
    "        # Check if the number is less than 0 (sentinel value)\n",
    "        if num < 0:\n",
    "            break  # Exit the loop if the number is negative\n",
    "        \n",
    "        # Update count and total for nonnegative numbers\n",
    "        count += 1\n",
    "        total += num\n",
    "    \n",
    "    # Calculate and print the average if at least one nonnegative number was entered\n",
    "    if count > 0:\n",
    "        average = total / count\n",
    "        print(f\"Average was {average:.1f}\")\n",
    "\n",
    "# Call the function to test\n",
    "printAverage()\n"
   ]
  },
  {
   "cell_type": "markdown",
   "id": "ae09bae0-377b-4c99-beef-0bdc12fd5e98",
   "metadata": {},
   "source": [
    "\n",
    "## Question 14\n",
    "Write a method named `numUnique` that takes three integers as parameters and returns the number of unique integers among the three. For example, the call `numUnique(18, 3, 4)` should return 3 because the parameters have three different values. By contrast, the call `numUnique(6, 7, 6)` should return `2` because there are only two unique numbers among the threeparameters:`6` and`7`.\n"
   ]
  },
  {
   "cell_type": "code",
   "execution_count": 21,
   "id": "9fba21b3-08cd-4cf1-8a6d-2374af5a425c",
   "metadata": {},
   "outputs": [
    {
     "name": "stdout",
     "output_type": "stream",
     "text": [
      "3\n",
      "2\n"
     ]
    }
   ],
   "source": [
    "def numUnique(a, b, c):\n",
    "    # Convert the three integers to a set to remove duplicates\n",
    "    unique_numbers = set([a, b, c])\n",
    "    \n",
    "    # Return the length of the set to get the number of unique integers\n",
    "    return len(unique_numbers)\n",
    "\n",
    "print(numUnique(18, 3, 4))  # Output: 3\n",
    "print(numUnique(6, 7, 6))   # Output: 2\n"
   ]
  },
  {
   "cell_type": "markdown",
   "id": "943c9870-7820-4038-8511-49b9dff205f9",
   "metadata": {},
   "source": [
    "\n",
    "## Question 15\n",
    "A Random object generates pseudo-random numbers. Find out how to use the Random class and write a program that simulates rolling of two 6- sided dice until their combined result comes up as 7. One possible output can be seen as below:\n",
    "```\n",
    "2+4=6\n",
    "3+5=8\n",
    "5 + 6 = 11\n",
    "1+1=2\n",
    "4+3=7\n",
    "You won after 5 tries!\n",
    "```"
   ]
  },
  {
   "cell_type": "code",
   "execution_count": 22,
   "id": "dfdf8996-28ce-451c-bf9f-b6e6ec353c94",
   "metadata": {},
   "outputs": [
    {
     "name": "stdout",
     "output_type": "stream",
     "text": [
      "6 + 6 = 12\n",
      "4 + 6 = 10\n",
      "5 + 2 = 7\n",
      "You won after 3 tries!\n"
     ]
    }
   ],
   "source": [
    "import random\n",
    "\n",
    "def roll_dice():\n",
    "    return random.randint(1, 6)\n",
    "\n",
    "def main():\n",
    "    tries = 0\n",
    "    while True:\n",
    "        dice1 = roll_dice()\n",
    "        dice2 = roll_dice()\n",
    "        total = dice1 + dice2\n",
    "        \n",
    "        print(f\"{dice1} + {dice2} = {total}\")\n",
    "        \n",
    "        if total == 7:\n",
    "            tries += 1\n",
    "            print(f\"You won after {tries} tries!\")\n",
    "            break\n",
    "        \n",
    "        tries += 1\n",
    "\n",
    "if __name__ == \"__main__\":\n",
    "    main()\n"
   ]
  }
 ],
 "metadata": {
  "kernelspec": {
   "display_name": "Python 3 (ipykernel)",
   "language": "python",
   "name": "python3"
  },
  "language_info": {
   "codemirror_mode": {
    "name": "ipython",
    "version": 3
   },
   "file_extension": ".py",
   "mimetype": "text/x-python",
   "name": "python",
   "nbconvert_exporter": "python",
   "pygments_lexer": "ipython3",
   "version": "3.12.1"
  }
 },
 "nbformat": 4,
 "nbformat_minor": 5
}
