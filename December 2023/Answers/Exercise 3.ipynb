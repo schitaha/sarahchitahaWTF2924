{
 "cells": [
  {
   "cell_type": "markdown",
   "id": "d9e4a41f-1764-45bc-b882-49b94fb67e57",
   "metadata": {},
   "source": [
    "\n",
    "# Software Development – List, Tuple \n",
    "\n",
    "## Python programming exercises\n"
   ]
  },
  {
   "cell_type": "markdown",
   "id": "9aeb5705-13c1-41a1-8146-509a00acf6ae",
   "metadata": {},
   "source": [
    "\n",
    "## Question 1\n",
    "Write a program that finds the maximum value of the given list, assuming that the list contains at least one element. Try your program with the following array\n",
    "\n",
    "| 2 | 4 | 7 | 4 | 23 | 5 | 1 | 4 | 8 | 9 |\n",
    "|---|---|---|---|---|---|---|---|---|---|\n",
    " "
   ]
  },
  {
   "cell_type": "code",
   "execution_count": 1,
   "id": "c25abbce-fa9a-47aa-826c-ee417fd32759",
   "metadata": {},
   "outputs": [
    {
     "name": "stdout",
     "output_type": "stream",
     "text": [
      "Maximum value: 23\n"
     ]
    }
   ],
   "source": [
    "def find_max(lst):\n",
    "    max_value = lst[0]  # Assuming the first element is the maximum\n",
    "\n",
    "    for num in lst:\n",
    "        if num > max_value:\n",
    "            max_value = num\n",
    "\n",
    "    return max_value\n",
    "\n",
    "given_list = [2, 4, 7, 4, 23, 5, 1, 4, 8, 9]\n",
    "\n",
    "max_value = find_max(given_list)\n",
    "print(\"Maximum value:\", max_value)\n"
   ]
  },
  {
   "cell_type": "markdown",
   "id": "4a01ac5d-0636-4fa3-a8d8-7d1ba53e0734",
   "metadata": {},
   "source": [
    "\n",
    "## Question 2\n",
    "Write a program that calculates the average value of the given list. Try your program with the following list\n",
    "\n",
    "| 4  | 7  | 1  | 5  | 11 | 53 | 12 | 46 | 84 | 23 |\n",
    "|---|---|---|---|---|---|---|---|---|---|\n"
   ]
  },
  {
   "cell_type": "code",
   "execution_count": 2,
   "id": "23b6204a-76b3-49ae-a4da-4557a2ce1e42",
   "metadata": {},
   "outputs": [
    {
     "name": "stdout",
     "output_type": "stream",
     "text": [
      "Average value: 24.6\n"
     ]
    }
   ],
   "source": [
    "def calculate_average(lst):\n",
    "    sum_values = sum(lst)\n",
    "    average = sum_values / len(lst)\n",
    "    return average\n",
    "\n",
    "given_list = [4, 7, 1, 5, 11, 53, 12, 46, 84, 23]\n",
    "\n",
    "average_value = calculate_average(given_list)\n",
    "print(\"Average value:\", average_value)\n"
   ]
  },
  {
   "cell_type": "markdown",
   "id": "7b7e25b0-f63c-42b6-843c-71a43d18e8b0",
   "metadata": {},
   "source": [
    "\n",
    "## Question 3\n",
    "Write a program that prints the given list of integers in reverse order. Try your program with the following list\n",
    "\n",
    "| 2  | 6  | 7  | 45 | 23 | 53 | 14 | 45 | 89 | 5  |\n",
    "|---|---|---|---|---|---|---|---|---|---|\n"
   ]
  },
  {
   "cell_type": "code",
   "execution_count": 3,
   "id": "ab4e5853-6cd3-42e2-8e33-fbb0625ba5be",
   "metadata": {},
   "outputs": [
    {
     "name": "stdout",
     "output_type": "stream",
     "text": [
      "Original list: [2, 6, 7, 45, 23, 53, 14, 45, 89, 5]\n",
      "Reversed list: [5, 89, 45, 14, 53, 23, 45, 7, 6, 2]\n"
     ]
    }
   ],
   "source": [
    "given_list = [2, 6, 7, 45, 23, 53, 14, 45, 89, 5]\n",
    "\n",
    "# Print the list in reverse order\n",
    "reversed_list = list(reversed(given_list))\n",
    "print(\"Original list:\", given_list)\n",
    "print(\"Reversed list:\", reversed_list)\n"
   ]
  },
  {
   "cell_type": "markdown",
   "id": "79d227b0-1f48-4d4e-8516-da4d4d651545",
   "metadata": {},
   "source": [
    "\n",
    "## Question 4\n",
    "Write a program that accepts two lists of integers and prints true if each element in the first list is less than the element at the same index in the second list. Your program should print false if the lists are not the same length.\n"
   ]
  },
  {
   "cell_type": "code",
   "execution_count": 4,
   "id": "406cdcc3-2e48-41a0-9661-ddba413a314f",
   "metadata": {},
   "outputs": [
    {
     "name": "stdout",
     "output_type": "stream",
     "text": [
      "True\n"
     ]
    }
   ],
   "source": [
    "def compare_lists(list1, list2):\n",
    "    if len(list1) != len(list2):\n",
    "        return False  # Lists are not the same length\n",
    "\n",
    "    for i in range(len(list1)):\n",
    "        if list1[i] >= list2[i]:\n",
    "            return False  # Element at index i in list1 is not less than element at index i in list2\n",
    "\n",
    "    return True  # All elements in list1 are less than corresponding elements in list2\n",
    "\n",
    "list1 = [2, 6, 7, 4, 23, 5, 1, 4, 8, 9]\n",
    "list2 = [3, 8, 9, 5, 24, 6, 2, 5, 9, 10]\n",
    "\n",
    "# Check and print the result\n",
    "result = compare_lists(list1, list2)\n",
    "print(result)\n"
   ]
  },
  {
   "cell_type": "markdown",
   "id": "531f4afb-c856-4f3b-95e2-183eff4153d9",
   "metadata": {},
   "source": [
    "\n",
    "## Question 5\n",
    "Write a program that accepts a list of integers and two indexes and swaps the elements at those indexes\n"
   ]
  },
  {
   "cell_type": "code",
   "execution_count": 5,
   "id": "b3a7d7a2-3eb5-43c9-8bb9-da634f7b15ad",
   "metadata": {},
   "outputs": [
    {
     "name": "stdout",
     "output_type": "stream",
     "text": [
      "List after swapping elements at indices 2 and 5: [2, 6, 5, 4, 23, 7, 1, 4, 8, 9]\n"
     ]
    }
   ],
   "source": [
    "def swap_elements(lst, index1, index2):\n",
    "    # Check if the indices are within the valid range\n",
    "    if 0 <= index1 < len(lst) and 0 <= index2 < len(lst):\n",
    "        # Swap the elements at the specified indices\n",
    "        lst[index1], lst[index2] = lst[index2], lst[index1]\n",
    "        return lst\n",
    "    else:\n",
    "        print(\"Invalid indices.\")\n",
    "        return None\n",
    "\n",
    "# Example list\n",
    "example_list = [2, 6, 7, 4, 23, 5, 1, 4, 8, 9]\n",
    "\n",
    "# Example indices to swap\n",
    "index1 = 2\n",
    "index2 = 5\n",
    "\n",
    "# Swap elements at the specified indices and print the result\n",
    "result = swap_elements(example_list, index1, index2)\n",
    "\n",
    "if result is not None:\n",
    "    print(f\"List after swapping elements at indices {index1} and {index2}: {result}\")\n"
   ]
  },
  {
   "cell_type": "markdown",
   "id": "54c27a3b-5742-465f-a0bf-5ac959661ead",
   "metadata": {},
   "source": [
    "\n",
    "## Question 6\n",
    "Write a program that accepts two lists of integers and prints a new list containing all elements of the first list followed by all elements of the second.\n"
   ]
  },
  {
   "cell_type": "code",
   "execution_count": 6,
   "id": "01e00cb1-88c8-4c7d-b195-2a121e3a03a3",
   "metadata": {},
   "outputs": [
    {
     "name": "stdout",
     "output_type": "stream",
     "text": [
      "Merged list: [2, 6, 7, 4, 23, 5, 1, 4, 8, 9]\n"
     ]
    }
   ],
   "source": [
    "def merge_lists(list1, list2):\n",
    "    merged_list = list1 + list2\n",
    "    return merged_list\n",
    "\n",
    "list1 = [2, 6, 7, 4, 23]\n",
    "list2 = [5, 1, 4, 8, 9]\n",
    "\n",
    "# Merge the lists and print the result\n",
    "result = merge_lists(list1, list2)\n",
    "print(\"Merged list:\", result)\n"
   ]
  },
  {
   "cell_type": "markdown",
   "id": "09964d90-07ca-4a93-bf02-4b8d3bdf857e",
   "metadata": {},
   "source": [
    "\n",
    "## Question 7\n",
    "Write a program that accepts a list of integers and an integer value as its parameters and prints the last index at which the value occurs in the list. The program should print –1 if the value is not found. For example, in the list [74, 85, 102, 99, 101, 85, 56], the last index of the value 85 is 5.\n"
   ]
  },
  {
   "cell_type": "code",
   "execution_count": 7,
   "id": "0eef162a-1b00-41ce-8291-b7d2eded1d27",
   "metadata": {},
   "outputs": [
    {
     "name": "stdout",
     "output_type": "stream",
     "text": [
      "The last index of 85 is: 5\n"
     ]
    }
   ],
   "source": [
    "def last_index_of_value(lst, value):\n",
    "    # Check if the value is present in the list\n",
    "    if value in lst:\n",
    "        # Use the rfind method to find the last index of the value\n",
    "        last_index = len(lst) - 1 - lst[::-1].index(value)\n",
    "        return last_index\n",
    "    else:\n",
    "        return -1\n",
    "\n",
    "# Example list\n",
    "example_list = [74, 85, 102, 99, 101, 85, 56]\n",
    "\n",
    "# Example value to search\n",
    "search_value = 85\n",
    "\n",
    "# Find and print the last index of the value\n",
    "result = last_index_of_value(example_list, search_value)\n",
    "print(f\"The last index of {search_value} is: {result}\")\n"
   ]
  },
  {
   "cell_type": "markdown",
   "id": "299e31bd-6df1-4e00-a674-666f31f5ac78",
   "metadata": {},
   "source": [
    "\n",
    "## Question 8\n",
    "Write a program that prints the range of values in a list of integers. The range is defined as 1 more than the difference between the maximum and minimum values in the list. For example, if a list contains the values [36, 12, 25, 19, 46, 31, 22], the program should return 35. You may assume that the list has at least one element.\n",
    "\n"
   ]
  },
  {
   "cell_type": "code",
   "execution_count": 8,
   "id": "5e9ec044-8b1e-4bbf-93ac-aead12ec0626",
   "metadata": {},
   "outputs": [
    {
     "name": "stdout",
     "output_type": "stream",
     "text": [
      "The range of values in the list is: 35\n"
     ]
    }
   ],
   "source": [
    "def calculate_range(lst):\n",
    "    # Calculate the range as 1 more than the difference between the maximum and minimum values\n",
    "    value_range = max(lst) - min(lst) + 1\n",
    "    return value_range\n",
    "\n",
    "# Example list\n",
    "example_list = [36, 12, 25, 19, 46, 31, 22]\n",
    "\n",
    "# Calculate and print the range of values in the list\n",
    "result = calculate_range(example_list)\n",
    "print(\"The range of values in the list is:\", result)\n"
   ]
  },
  {
   "cell_type": "markdown",
   "id": "b4386864-574c-4d58-90c2-77557df5b8e5",
   "metadata": {},
   "source": [
    "\n",
    "## Question 9\n",
    "Write a program that accepts a list of integers, a minimum value, and a maximum value and prints the count of how many elements from the list fall between the minimum and maximum (inclusive). For example, in the list [14, 1, 22, 17, 36, 7, -43, 5], for minimum value 4 and maximum value 17, there are four elements whose values fall between 4 and 17.\n"
   ]
  },
  {
   "cell_type": "code",
   "execution_count": 9,
   "id": "f4053526-ae08-452b-a298-3251c799f947",
   "metadata": {},
   "outputs": [
    {
     "name": "stdout",
     "output_type": "stream",
     "text": [
      "The count of elements between 4 and 17 is: 4\n"
     ]
    }
   ],
   "source": [
    "def count_elements_between(lst, min_value, max_value):\n",
    "    # Use a list comprehension to filter elements that fall between min_value and max_value\n",
    "    elements_between = [num for num in lst if min_value <= num <= max_value]\n",
    "    count = len(elements_between)\n",
    "    return count\n",
    "\n",
    "# Example list\n",
    "example_list = [14, 1, 22, 17, 36, 7, -43, 5]\n",
    "\n",
    "# Example minimum and maximum values\n",
    "min_value = 4\n",
    "max_value = 17\n",
    "\n",
    "# Count and print the elements between min_value and max_value\n",
    "result = count_elements_between(example_list, min_value, max_value)\n",
    "print(f\"The count of elements between {min_value} and {max_value} is: {result}\")\n"
   ]
  },
  {
   "cell_type": "markdown",
   "id": "6f7ef34a-36e6-48cf-a939-74e5539501d7",
   "metadata": {},
   "source": [
    "\n",
    "## Question 10\n",
    "Write a program that accepts a list of real numbers and prints true if the list is in sorted (nondecreasing) order and false otherwise. For example, if lists named list1 and list2 store [16.1, 12.3, 22.2, 14.4] and [1.5, 4.3, 7.0, 19.5, 25.1, 46.2] respectively, the program should print false for list1 and true for list2 respectively. Assume the list has at least one element. A one-element list is sorted.\n"
   ]
  },
  {
   "cell_type": "code",
   "execution_count": 10,
   "id": "5450646b-c7f4-4135-bb71-38d8a4a15d6e",
   "metadata": {},
   "outputs": [
    {
     "name": "stdout",
     "output_type": "stream",
     "text": [
      "Is list1 sorted? False\n",
      "Is list2 sorted? True\n"
     ]
    }
   ],
   "source": [
    "def is_sorted(lst):\n",
    "    # Check if the list is sorted in non-decreasing order\n",
    "    return all(lst[i] <= lst[i + 1] for i in range(len(lst) - 1))\n",
    "\n",
    "# Example lists\n",
    "list1 = [16.1, 12.3, 22.2, 14.4]\n",
    "list2 = [1.5, 4.3, 7.0, 19.5, 25.1, 46.2]\n",
    "\n",
    "# Check and print whether each list is sorted\n",
    "result1 = is_sorted(list1)\n",
    "result2 = is_sorted(list2)\n",
    "\n",
    "print(f\"Is list1 sorted? {result1}\")\n",
    "print(f\"Is list2 sorted? {result2}\")\n"
   ]
  },
  {
   "cell_type": "code",
   "execution_count": null,
   "id": "31fdc67a-6dae-42da-91ec-6e3e2cb617a5",
   "metadata": {},
   "outputs": [],
   "source": []
  }
 ],
 "metadata": {
  "kernelspec": {
   "display_name": "Python 3 (ipykernel)",
   "language": "python",
   "name": "python3"
  },
  "language_info": {
   "codemirror_mode": {
    "name": "ipython",
    "version": 3
   },
   "file_extension": ".py",
   "mimetype": "text/x-python",
   "name": "python",
   "nbconvert_exporter": "python",
   "pygments_lexer": "ipython3",
   "version": "3.12.1"
  }
 },
 "nbformat": 4,
 "nbformat_minor": 5
}
