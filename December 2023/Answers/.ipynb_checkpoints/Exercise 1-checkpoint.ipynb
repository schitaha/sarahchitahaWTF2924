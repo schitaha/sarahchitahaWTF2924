{
 "cells": [
  {
   "cell_type": "markdown",
   "id": "1ef0648d-f3db-4ea3-8185-ec2c2b367c1e",
   "metadata": {},
   "source": [
    "\n",
    "# Excercise 1\n"
   ]
  },
  {
   "cell_type": "markdown",
   "id": "6efdf188-8c0c-4166-9aab-b46f71ccb8e3",
   "metadata": {},
   "source": [
    "\n",
    "## Question 1\n",
    "What is the output of the following print statements?\n",
    "```\n",
    "print(\"\\ta\\tb\\tc\") print(\"\\\\\\\\\")\n",
    "print(\"'\")\n",
    "print(\"\\\"\\\"\\\"\")\n",
    "print(\"C:\\nin\\the downward spiral\")\n",
    "```\n"
   ]
  },
  {
   "cell_type": "code",
   "execution_count": 2,
   "id": "d0dac9d2-76de-4d91-85e8-05a8ce8a308f",
   "metadata": {},
   "outputs": [
    {
     "name": "stdout",
     "output_type": "stream",
     "text": [
      "\ta\tb\tc\n",
      "\\\\\n",
      "'\n",
      "\"\"\"\n",
      "C:\n",
      "in\the downward spiral\n"
     ]
    }
   ],
   "source": [
    "print(\"\\ta\\tb\\tc\") \n",
    "print(\"\\\\\\\\\")\n",
    "print(\"'\")\n",
    "print(\"\\\"\\\"\\\"\")\n",
    "print(\"C:\\nin\\the downward spiral\")"
   ]
  },
  {
   "cell_type": "markdown",
   "id": "4788594b-b401-4a91-857b-2b8d0d0081d6",
   "metadata": {
    "tags": []
   },
   "source": [
    "\n",
    "## Question 2\n",
    "Write a print statement to produce this output:\n",
    "```\n",
    "/ \\ // \\\\ /// \\\\\\\n",
    "```\n"
   ]
  },
  {
   "cell_type": "code",
   "execution_count": 3,
   "id": "5470abfa-f620-4bdc-bec7-86564c1b1326",
   "metadata": {},
   "outputs": [
    {
     "name": "stdout",
     "output_type": "stream",
     "text": [
      "/ \\ // \\\\ /// \\\\\\\n"
     ]
    }
   ],
   "source": [
    "print(\"/ \\\\ // \\\\\\\\ /// \\\\\\\\\\\\\")"
   ]
  },
  {
   "cell_type": "markdown",
   "id": "e3fda220-5275-4795-866d-d82826932975",
   "metadata": {},
   "source": [
    "\n",
    "## Question 3\n",
    "What print statements will generate this output?\n",
    "```\n",
    "This quote is from \n",
    "Irish poet Oscar Wilde:\n",
    "\"Music makes one feel so romantic\n",
    "- at least it always gets on one's nerves – \n",
    "which is the same thing nowadays.\"\n",
    "```\n"
   ]
  },
  {
   "cell_type": "code",
   "execution_count": 4,
   "id": "2a844612-01be-4e06-8bc7-764194dd2596",
   "metadata": {},
   "outputs": [
    {
     "name": "stdout",
     "output_type": "stream",
     "text": [
      "This quote is from \n",
      "Irish poet Oscar Wilde:\n",
      "\"Music makes one feel so romantic\n",
      "- at least it always gets on one's nerves – \n",
      "which is the same thing nowadays.\"\n"
     ]
    }
   ],
   "source": [
    "print('''This quote is from \n",
    "Irish poet Oscar Wilde:\n",
    "\"Music makes one feel so romantic\n",
    "- at least it always gets on one's nerves – \n",
    "which is the same thing nowadays.\"''')"
   ]
  },
  {
   "cell_type": "markdown",
   "id": "1acecbbf-0b7d-4c7b-ac67-9330091a66c3",
   "metadata": {},
   "source": [
    "\n",
    "## Question 4\n",
    "What print statements will generate this output?\n",
    "```\n",
    "A \"quoted\" String is \n",
    "'much' better if you learn\n",
    "the rules of \"escape sequences.\" \n",
    "Also, \"\" represents an empty String. \n",
    "Don't forget: use \\\" instead of \" ! \n",
    "'' is not the same as \"\n",
    "```\n"
   ]
  },
  {
   "cell_type": "code",
   "execution_count": 5,
   "id": "95a5cbe3-8993-4ad1-95d1-fa6eaf41b91b",
   "metadata": {},
   "outputs": [
    {
     "name": "stdout",
     "output_type": "stream",
     "text": [
      "A \"quoted\" String is \n",
      "'much' better if you learn\n",
      "the rules of \"escape sequences.\" \n",
      "Also, \"\" represents an empty String. \n",
      "Don't forget: use \\\" instead of \" ! \n",
      "'' is not the same as \"\n"
     ]
    }
   ],
   "source": [
    "print('''A \"quoted\" String is \n",
    "'much' better if you learn\n",
    "the rules of \"escape sequences.\" \n",
    "Also, \"\" represents an empty String. \n",
    "Don't forget: use \\\\\" instead of \" ! \n",
    "'' is not the same as \"''')"
   ]
  },
  {
   "cell_type": "markdown",
   "id": "0dcdf0c4-b0ca-4725-9d2b-f22c3f52da44",
   "metadata": {},
   "source": [
    "\n",
    "## Question 5\n",
    "\n",
    "What values result from the following expressions?\n",
    "```\n",
    "– 9 / 5\n",
    "– 695 % 20\n",
    "– 7 + 6 * 5\n",
    "– 7 * 6 + 5\n",
    "– 248 % 100 / 5\n",
    "– 6 * 3 - 9 / 4\n",
    "– (5 - 7) * 4\n",
    "– 6 + (18 % (17 - 12))\n",
    "```\n"
   ]
  },
  {
   "cell_type": "code",
   "execution_count": 6,
   "id": "2fe5ba85-40f9-4803-b65b-faff9e43890f",
   "metadata": {},
   "outputs": [
    {
     "name": "stdout",
     "output_type": "stream",
     "text": [
      "9 / 5 = 1.8\n",
      "695 % 20 = 15\n",
      "7 + 6 * 5 = 37\n",
      "7 * 6 + 5 = 47\n",
      "248 % 100 / 5 = 9.6\n",
      "6 * 3 - 9 / 4 = 15.75\n",
      "(5 - 7) * 4 = -8\n",
      "6 + (18 % (17 - 12)) = 9\n"
     ]
    }
   ],
   "source": [
    "print(\"9 / 5 =\", 9 / 5)                     \n",
    "print(\"695 % 20 =\", 695 % 20)                \n",
    "print(\"7 + 6 * 5 =\", 7 + 6 * 5)             \n",
    "print(\"7 * 6 + 5 =\", 7 * 6 + 5)             \n",
    "print(\"248 % 100 / 5 =\", 248 % 100 / 5)     \n",
    "print(\"6 * 3 - 9 / 4 =\", 6 * 3 - 9 / 4)     \n",
    "print(\"(5 - 7) * 4 =\", (5 - 7) * 4)          \n",
    "print(\"6 + (18 % (17 - 12)) =\", 6 + (18 % (17 - 12))) "
   ]
  },
  {
   "cell_type": "code",
   "execution_count": null,
   "id": "e97f542c-8507-4231-9a45-750843161e96",
   "metadata": {},
   "outputs": [],
   "source": []
  }
 ],
 "metadata": {
  "kernelspec": {
   "display_name": "Python 3 (ipykernel)",
   "language": "python",
   "name": "python3"
  },
  "language_info": {
   "codemirror_mode": {
    "name": "ipython",
    "version": 3
   },
   "file_extension": ".py",
   "mimetype": "text/x-python",
   "name": "python",
   "nbconvert_exporter": "python",
   "pygments_lexer": "ipython3",
   "version": "3.12.1"
  }
 },
 "nbformat": 4,
 "nbformat_minor": 5
}
